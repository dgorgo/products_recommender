{
 "cells": [
  {
   "cell_type": "code",
   "execution_count": 1,
   "id": "ac25cb27",
   "metadata": {},
   "outputs": [],
   "source": [
    "import numpy as np\n",
    "import pandas as pd\n",
    "import matplotlib.pyplot as plt\n",
    "from sklearn.metrics.pairwise import cosine_similarity\n",
    "import warnings\n",
    "warnings.filterwarnings(\"ignore\")"
   ]
  },
  {
   "cell_type": "code",
   "execution_count": 2,
   "id": "978f9638",
   "metadata": {},
   "outputs": [],
   "source": [
    "products = pd.read_csv('skincare_products_clean.csv')\n",
    "chem_df = pd.read_csv('chemicals.csv')"
   ]
  },
  {
   "cell_type": "code",
   "execution_count": 3,
   "id": "bc2b09fd",
   "metadata": {},
   "outputs": [
    {
     "name": "stdout",
     "output_type": "stream",
     "text": [
      "product_name     0\n",
      "product_url      0\n",
      "product_type     0\n",
      "clean_ingreds    0\n",
      "price            0\n",
      "dtype: int64\n",
      "Chemical_Name    0\n",
      "Skin_Type        0\n",
      "Description      0\n",
      "dtype: int64\n"
     ]
    }
   ],
   "source": [
    "print(products.isna().sum())\n",
    "print(chem_df.isna().sum())"
   ]
  },
  {
   "cell_type": "code",
   "execution_count": 4,
   "id": "bfe38040",
   "metadata": {},
   "outputs": [],
   "source": [
    "def find_matches(ingredient, chemicals):\n",
    "    for chemical in chemicals:\n",
    "        if chemical.lower() in ingredient.lower():\n",
    "            return chemical\n",
    "    return None"
   ]
  },
  {
   "cell_type": "code",
   "execution_count": 5,
   "id": "969bf50b",
   "metadata": {},
   "outputs": [],
   "source": [
    "products['matched_chemical'] = products['clean_ingreds'].apply(lambda x: find_matches(x, chem_df['Chemical_Name']))"
   ]
  },
  {
   "cell_type": "code",
   "execution_count": 6,
   "id": "205b483b",
   "metadata": {},
   "outputs": [],
   "source": [
    "skin_products = pd.merge(products, chem_df, how='left', left_on='matched_chemical', right_on='Chemical_Name')"
   ]
  },
  {
   "cell_type": "code",
   "execution_count": 7,
   "id": "e4caeb15",
   "metadata": {},
   "outputs": [],
   "source": [
    "skin_products = skin_products.drop(columns=['product_url', 'price', 'Chemical_Name'])"
   ]
  },
  {
   "cell_type": "code",
   "execution_count": 22,
   "id": "8bbaad72",
   "metadata": {},
   "outputs": [
    {
     "data": {
      "text/html": [
       "<div>\n",
       "<style scoped>\n",
       "    .dataframe tbody tr th:only-of-type {\n",
       "        vertical-align: middle;\n",
       "    }\n",
       "\n",
       "    .dataframe tbody tr th {\n",
       "        vertical-align: top;\n",
       "    }\n",
       "\n",
       "    .dataframe thead th {\n",
       "        text-align: right;\n",
       "    }\n",
       "</style>\n",
       "<table border=\"1\" class=\"dataframe\">\n",
       "  <thead>\n",
       "    <tr style=\"text-align: right;\">\n",
       "      <th></th>\n",
       "      <th>alcohol denat',</th>\n",
       "      <th>alcohol', 'glycerin',</th>\n",
       "      <th>aloe barbadenis</th>\n",
       "      <th>ammonium lactate',</th>\n",
       "      <th>anthemis nobilis</th>\n",
       "      <th>ascorbic acid',</th>\n",
       "      <th>butylene glycol',</th>\n",
       "      <th>butyrospermum parkii',</th>\n",
       "      <th>c12-15', 'tapioca</th>\n",
       "      <th>capric triglyceride',</th>\n",
       "      <th>...</th>\n",
       "      <th>sodium chloride',</th>\n",
       "      <th>sodium hyaluronate',</th>\n",
       "      <th>sodium lactate',</th>\n",
       "      <th>sodium laureth</th>\n",
       "      <th>sodium palmate',</th>\n",
       "      <th>sodium polyacrylate',</th>\n",
       "      <th>squalene', 'glycerin',</th>\n",
       "      <th>triethanolamine', 'sodium</th>\n",
       "      <th>vitis vinifera</th>\n",
       "      <th>water\\\\aqua\\\\eau ',</th>\n",
       "    </tr>\n",
       "  </thead>\n",
       "  <tbody>\n",
       "    <tr>\n",
       "      <th>0</th>\n",
       "      <td>92.0</td>\n",
       "      <td>9.0</td>\n",
       "      <td>3744.0</td>\n",
       "      <td>4.0</td>\n",
       "      <td>3.0</td>\n",
       "      <td>2.0</td>\n",
       "      <td>2880.0</td>\n",
       "      <td>16.0</td>\n",
       "      <td>1.0</td>\n",
       "      <td>9963.0</td>\n",
       "      <td>...</td>\n",
       "      <td>20.0</td>\n",
       "      <td>717.0</td>\n",
       "      <td>5.0</td>\n",
       "      <td>912.0</td>\n",
       "      <td>2.0</td>\n",
       "      <td>2.0</td>\n",
       "      <td>5.0</td>\n",
       "      <td>1.0</td>\n",
       "      <td>75.0</td>\n",
       "      <td>10.0</td>\n",
       "    </tr>\n",
       "  </tbody>\n",
       "</table>\n",
       "<p>1 rows × 81 columns</p>\n",
       "</div>"
      ],
      "text/plain": [
       "   alcohol denat',  alcohol', 'glycerin',  aloe barbadenis  \\\n",
       "0             92.0                    9.0           3744.0   \n",
       "\n",
       "   ammonium lactate',  anthemis nobilis  ascorbic acid',  butylene glycol',  \\\n",
       "0                 4.0               3.0              2.0             2880.0   \n",
       "\n",
       "   butyrospermum parkii',  c12-15', 'tapioca  capric triglyceride',  ...  \\\n",
       "0                    16.0                1.0                 9963.0  ...   \n",
       "\n",
       "   sodium chloride',  sodium hyaluronate',  sodium lactate',  sodium laureth  \\\n",
       "0               20.0                 717.0               5.0           912.0   \n",
       "\n",
       "   sodium palmate',  sodium polyacrylate',  squalene', 'glycerin',  \\\n",
       "0               2.0                    2.0                     5.0   \n",
       "\n",
       "   triethanolamine', 'sodium  vitis vinifera  water\\\\aqua\\\\eau ',  \n",
       "0                        1.0            75.0                 10.0  \n",
       "\n",
       "[1 rows x 81 columns]"
      ]
     },
     "execution_count": 22,
     "metadata": {},
     "output_type": "execute_result"
    }
   ],
   "source": [
    "ingred_matrix = pd.get_dummies(skin_products['matched_chemical'].str.split(\"|\").apply(pd.Series).stack()).sum(level=1)\n",
    "ingred_matrix"
   ]
  },
  {
   "cell_type": "code",
   "execution_count": 8,
   "id": "8b0be625",
   "metadata": {},
   "outputs": [],
   "source": [
    "skin_products.dropna(inplace=True)"
   ]
  },
  {
   "cell_type": "code",
   "execution_count": 9,
   "id": "b3359b96",
   "metadata": {},
   "outputs": [],
   "source": [
    "grouped_chem = skin_products.groupby('clean_ingreds')['matched_chemical'].apply(lambda x: ', '.join(x)).reset_index()"
   ]
  },
  {
   "cell_type": "code",
   "execution_count": 10,
   "id": "bbadb2ae",
   "metadata": {},
   "outputs": [],
   "source": [
    "# Create final dataframe\n",
    "final_df = skin_products.merge(grouped_chem, on='matched_chemical', how='left')\n",
    "final_df = final_df[['product_name','product_type', 'matched_chemical', 'Skin_Type', 'Description']]"
   ]
  },
  {
   "cell_type": "code",
   "execution_count": 11,
   "id": "89c44931",
   "metadata": {},
   "outputs": [],
   "source": [
    "def add_name_to_skin(row):\n",
    "    if pd.isnull(row['Skin_Type']):\n",
    "        return row['product_name'].replace(\"|\", \",\")\n",
    "    else:\n",
    "        return row['Skin_Type'] + \",\" + row['product_name'].replace(\"|\", \",\")"
   ]
  },
  {
   "cell_type": "code",
   "execution_count": 19,
   "id": "e1d6c5dd",
   "metadata": {},
   "outputs": [
    {
     "data": {
      "text/html": [
       "<div>\n",
       "<style scoped>\n",
       "    .dataframe tbody tr th:only-of-type {\n",
       "        vertical-align: middle;\n",
       "    }\n",
       "\n",
       "    .dataframe tbody tr th {\n",
       "        vertical-align: top;\n",
       "    }\n",
       "\n",
       "    .dataframe thead th {\n",
       "        text-align: right;\n",
       "    }\n",
       "</style>\n",
       "<table border=\"1\" class=\"dataframe\">\n",
       "  <thead>\n",
       "    <tr style=\"text-align: right;\">\n",
       "      <th></th>\n",
       "      <th>product_name</th>\n",
       "      <th>product_type</th>\n",
       "      <th>matched_chemical</th>\n",
       "      <th>Skin_Type</th>\n",
       "      <th>Description</th>\n",
       "    </tr>\n",
       "  </thead>\n",
       "  <tbody>\n",
       "    <tr>\n",
       "      <th>0</th>\n",
       "      <td>The Ordinary Natural Moisturising Factors + HA...</td>\n",
       "      <td>Moisturiser</td>\n",
       "      <td>capric triglyceride',</td>\n",
       "      <td>Dry Skin,The Ordinary Natural Moisturising Fac...</td>\n",
       "      <td>A moisturizing agent derived from coconut oil....</td>\n",
       "    </tr>\n",
       "    <tr>\n",
       "      <th>1</th>\n",
       "      <td>The Ordinary Natural Moisturising Factors + HA...</td>\n",
       "      <td>Moisturiser</td>\n",
       "      <td>capric triglyceride',</td>\n",
       "      <td>Dry Skin,The Ordinary Natural Moisturising Fac...</td>\n",
       "      <td>A moisturizing agent derived from coconut oil....</td>\n",
       "    </tr>\n",
       "    <tr>\n",
       "      <th>2</th>\n",
       "      <td>The Ordinary Natural Moisturising Factors + HA...</td>\n",
       "      <td>Moisturiser</td>\n",
       "      <td>capric triglyceride',</td>\n",
       "      <td>Dry Skin,The Ordinary Natural Moisturising Fac...</td>\n",
       "      <td>A moisturizing agent derived from coconut oil....</td>\n",
       "    </tr>\n",
       "    <tr>\n",
       "      <th>3</th>\n",
       "      <td>The Ordinary Natural Moisturising Factors + HA...</td>\n",
       "      <td>Moisturiser</td>\n",
       "      <td>capric triglyceride',</td>\n",
       "      <td>Dry Skin,The Ordinary Natural Moisturising Fac...</td>\n",
       "      <td>A moisturizing agent derived from coconut oil....</td>\n",
       "    </tr>\n",
       "    <tr>\n",
       "      <th>4</th>\n",
       "      <td>The Ordinary Natural Moisturising Factors + HA...</td>\n",
       "      <td>Moisturiser</td>\n",
       "      <td>capric triglyceride',</td>\n",
       "      <td>Dry Skin,The Ordinary Natural Moisturising Fac...</td>\n",
       "      <td>A moisturizing agent derived from coconut oil....</td>\n",
       "    </tr>\n",
       "    <tr>\n",
       "      <th>...</th>\n",
       "      <td>...</td>\n",
       "      <td>...</td>\n",
       "      <td>...</td>\n",
       "      <td>...</td>\n",
       "      <td>...</td>\n",
       "    </tr>\n",
       "    <tr>\n",
       "      <th>22698</th>\n",
       "      <td>Connock London Kukui Oil Soothing Bath &amp; Showe...</td>\n",
       "      <td>Bath Oil</td>\n",
       "      <td>capric triglyceride',</td>\n",
       "      <td>Dry Skin,Connock London Kukui Oil Soothing Bat...</td>\n",
       "      <td>A moisturizing agent derived from coconut oil....</td>\n",
       "    </tr>\n",
       "    <tr>\n",
       "      <th>22699</th>\n",
       "      <td>Connock London Kukui Oil Soothing Bath &amp; Showe...</td>\n",
       "      <td>Bath Oil</td>\n",
       "      <td>capric triglyceride',</td>\n",
       "      <td>Dry Skin,Connock London Kukui Oil Soothing Bat...</td>\n",
       "      <td>A moisturizing agent derived from coconut oil....</td>\n",
       "    </tr>\n",
       "    <tr>\n",
       "      <th>22700</th>\n",
       "      <td>Connock London Kukui Oil Soothing Bath &amp; Showe...</td>\n",
       "      <td>Bath Oil</td>\n",
       "      <td>capric triglyceride',</td>\n",
       "      <td>Dry Skin,Connock London Kukui Oil Soothing Bat...</td>\n",
       "      <td>A moisturizing agent derived from coconut oil....</td>\n",
       "    </tr>\n",
       "    <tr>\n",
       "      <th>22701</th>\n",
       "      <td>Weleda Baby Calendula Cream Bath (200ml)</td>\n",
       "      <td>Bath Oil</td>\n",
       "      <td>glycerin', 'glyceryl</td>\n",
       "      <td>Oily Skin,Weleda Baby Calendula Cream Bath (20...</td>\n",
       "      <td>A fatty alcohol used as an emollient and thick...</td>\n",
       "    </tr>\n",
       "    <tr>\n",
       "      <th>22702</th>\n",
       "      <td>Weleda Baby Calendula Cream Bath (200ml)</td>\n",
       "      <td>Bath Oil</td>\n",
       "      <td>glycerin', 'glyceryl</td>\n",
       "      <td>All Skin type,Weleda Baby Calendula Cream Bath...</td>\n",
       "      <td>A humectant that attracts moisture to the skin...</td>\n",
       "    </tr>\n",
       "  </tbody>\n",
       "</table>\n",
       "<p>22703 rows × 5 columns</p>\n",
       "</div>"
      ],
      "text/plain": [
       "                                            product_name product_type  \\\n",
       "0      The Ordinary Natural Moisturising Factors + HA...  Moisturiser   \n",
       "1      The Ordinary Natural Moisturising Factors + HA...  Moisturiser   \n",
       "2      The Ordinary Natural Moisturising Factors + HA...  Moisturiser   \n",
       "3      The Ordinary Natural Moisturising Factors + HA...  Moisturiser   \n",
       "4      The Ordinary Natural Moisturising Factors + HA...  Moisturiser   \n",
       "...                                                  ...          ...   \n",
       "22698  Connock London Kukui Oil Soothing Bath & Showe...     Bath Oil   \n",
       "22699  Connock London Kukui Oil Soothing Bath & Showe...     Bath Oil   \n",
       "22700  Connock London Kukui Oil Soothing Bath & Showe...     Bath Oil   \n",
       "22701           Weleda Baby Calendula Cream Bath (200ml)     Bath Oil   \n",
       "22702           Weleda Baby Calendula Cream Bath (200ml)     Bath Oil   \n",
       "\n",
       "            matched_chemical  \\\n",
       "0      capric triglyceride',   \n",
       "1      capric triglyceride',   \n",
       "2      capric triglyceride',   \n",
       "3      capric triglyceride',   \n",
       "4      capric triglyceride',   \n",
       "...                      ...   \n",
       "22698  capric triglyceride',   \n",
       "22699  capric triglyceride',   \n",
       "22700  capric triglyceride',   \n",
       "22701   glycerin', 'glyceryl   \n",
       "22702   glycerin', 'glyceryl   \n",
       "\n",
       "                                               Skin_Type  \\\n",
       "0      Dry Skin,The Ordinary Natural Moisturising Fac...   \n",
       "1      Dry Skin,The Ordinary Natural Moisturising Fac...   \n",
       "2      Dry Skin,The Ordinary Natural Moisturising Fac...   \n",
       "3      Dry Skin,The Ordinary Natural Moisturising Fac...   \n",
       "4      Dry Skin,The Ordinary Natural Moisturising Fac...   \n",
       "...                                                  ...   \n",
       "22698  Dry Skin,Connock London Kukui Oil Soothing Bat...   \n",
       "22699  Dry Skin,Connock London Kukui Oil Soothing Bat...   \n",
       "22700  Dry Skin,Connock London Kukui Oil Soothing Bat...   \n",
       "22701  Oily Skin,Weleda Baby Calendula Cream Bath (20...   \n",
       "22702  All Skin type,Weleda Baby Calendula Cream Bath...   \n",
       "\n",
       "                                             Description  \n",
       "0      A moisturizing agent derived from coconut oil....  \n",
       "1      A moisturizing agent derived from coconut oil....  \n",
       "2      A moisturizing agent derived from coconut oil....  \n",
       "3      A moisturizing agent derived from coconut oil....  \n",
       "4      A moisturizing agent derived from coconut oil....  \n",
       "...                                                  ...  \n",
       "22698  A moisturizing agent derived from coconut oil....  \n",
       "22699  A moisturizing agent derived from coconut oil....  \n",
       "22700  A moisturizing agent derived from coconut oil....  \n",
       "22701  A fatty alcohol used as an emollient and thick...  \n",
       "22702  A humectant that attracts moisture to the skin...  \n",
       "\n",
       "[22703 rows x 5 columns]"
      ]
     },
     "execution_count": 19,
     "metadata": {},
     "output_type": "execute_result"
    }
   ],
   "source": [
    "final_df\n"
   ]
  },
  {
   "cell_type": "code",
   "execution_count": 12,
   "id": "bd9a4c27",
   "metadata": {},
   "outputs": [],
   "source": [
    "final_df['Skin_Type'] = final_df.apply(lambda row: add_name_to_skin(row), axis=1)"
   ]
  },
  {
   "cell_type": "code",
   "execution_count": 13,
   "id": "1235f593",
   "metadata": {},
   "outputs": [],
   "source": [
    "product_names = final_df['product_name'].tolist()\n",
    "skin_types = final_df['Skin_Type'].str.strip().str.split(\",\").tolist()"
   ]
  },
  {
   "cell_type": "code",
   "execution_count": 14,
   "id": "eb82f0eb",
   "metadata": {},
   "outputs": [],
   "source": [
    "# Create bag of words\n",
    "def create_bow(sktype_list):\n",
    "    bow = {}\n",
    "    if not isinstance(sktype_list, float):\n",
    "        for Skin_Type in sktype_list:\n",
    "            bow[Skin_Type] = 1\n",
    "    return bow"
   ]
  },
  {
   "cell_type": "code",
   "execution_count": 15,
   "id": "b2eb9761",
   "metadata": {},
   "outputs": [],
   "source": [
    "bags_of_words = [create_bow(skin_type) for skin_type in skin_types]\n",
    "sktype_df = pd.DataFrame(bags_of_words, index=product_names).fillna(0)"
   ]
  },
  {
   "cell_type": "code",
   "execution_count": 16,
   "id": "b4efe186",
   "metadata": {},
   "outputs": [],
   "source": [
    "# Calculate cosine similarity\n",
    "cosine_sim = cosine_similarity(sktype_df)\n",
    "similarity_df = pd.DataFrame(cosine_sim, index=sktype_df.index, columns=sktype_df.index)"
   ]
  },
  {
   "cell_type": "code",
   "execution_count": 20,
   "id": "8005a1f2",
   "metadata": {},
   "outputs": [
    {
     "name": "stdout",
     "output_type": "stream",
     "text": [
      "What is your skin type or product name: Dry Skin,The Ordinary Natural Moisturising\n"
     ]
    }
   ],
   "source": [
    "# User input for recommendation\n",
    "user_input = input('What is your skin type or product name: ')"
   ]
  },
  {
   "cell_type": "code",
   "execution_count": 21,
   "id": "103edd03",
   "metadata": {},
   "outputs": [
    {
     "name": "stdout",
     "output_type": "stream",
     "text": [
      "The input provided does not match any product or skin type in the dataset.\n"
     ]
    }
   ],
   "source": [
    "\n",
    "# Find the index of the product in the similarity dataframe\n",
    "try:\n",
    "    product_index = similarity_df.index.get_loc(user_input)\n",
    "    top_10 = similarity_df.iloc[product_index].sort_values(ascending=False)[1:11]\n",
    "\n",
    "    # Print the top 10 most similar products\n",
    "    print(f'Top 10 similar products to {user_input}:')\n",
    "    print(top_10)\n",
    "except KeyError:\n",
    "    print(\"The input provided does not match any product or skin type in the dataset.\")\n"
   ]
  },
  {
   "cell_type": "code",
   "execution_count": null,
   "id": "d4336862",
   "metadata": {},
   "outputs": [],
   "source": []
  }
 ],
 "metadata": {
  "kernelspec": {
   "display_name": "Python 3 (ipykernel)",
   "language": "python",
   "name": "python3"
  },
  "language_info": {
   "codemirror_mode": {
    "name": "ipython",
    "version": 3
   },
   "file_extension": ".py",
   "mimetype": "text/x-python",
   "name": "python",
   "nbconvert_exporter": "python",
   "pygments_lexer": "ipython3",
   "version": "3.9.13"
  }
 },
 "nbformat": 4,
 "nbformat_minor": 5
}
